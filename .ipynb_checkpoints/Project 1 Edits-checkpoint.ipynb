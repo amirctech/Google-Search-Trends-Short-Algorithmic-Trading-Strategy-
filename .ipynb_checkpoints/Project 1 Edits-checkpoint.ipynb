{
 "cells": [
  {
   "cell_type": "code",
   "execution_count": 2,
   "id": "1940763b-bd68-4278-ac2f-459f2c7bd384",
   "metadata": {},
   "outputs": [],
   "source": [
    "# Initial imports\n",
    "import pandas as pd\n",
    "from pathlib import Path\n",
    "from sklearn.ensemble import RandomForestClassifier\n",
    "from sklearn.preprocessing import StandardScaler\n",
    "from sklearn.model_selection import train_test_split\n",
    "from sklearn.metrics import confusion_matrix, accuracy_score, classification_report"
   ]
  },
  {
   "cell_type": "markdown",
   "id": "cf3d15e3-3d7f-498a-9e15-aef3e9be3315",
   "metadata": {},
   "source": [
    "## Loading & Preprocessing "
   ]
  },
  {
   "cell_type": "code",
   "execution_count": 3,
   "id": "04425517-312e-413d-8dd4-a002900e98ef",
   "metadata": {},
   "outputs": [
    {
     "data": {
      "text/html": [
       "<div>\n",
       "<style scoped>\n",
       "    .dataframe tbody tr th:only-of-type {\n",
       "        vertical-align: middle;\n",
       "    }\n",
       "\n",
       "    .dataframe tbody tr th {\n",
       "        vertical-align: top;\n",
       "    }\n",
       "\n",
       "    .dataframe thead th {\n",
       "        text-align: right;\n",
       "    }\n",
       "</style>\n",
       "<table border=\"1\" class=\"dataframe\">\n",
       "  <thead>\n",
       "    <tr style=\"text-align: right;\">\n",
       "      <th></th>\n",
       "      <th>Week</th>\n",
       "      <th>Carvana Co</th>\n",
       "      <th>Carvana stock down</th>\n",
       "      <th>Carvana bankruptcy</th>\n",
       "      <th>Carvana short</th>\n",
       "      <th>Carvana loss</th>\n",
       "      <th>Trending</th>\n",
       "    </tr>\n",
       "  </thead>\n",
       "  <tbody>\n",
       "    <tr>\n",
       "      <th>0</th>\n",
       "      <td>7/26/2020</td>\n",
       "      <td>41</td>\n",
       "      <td>0</td>\n",
       "      <td>4</td>\n",
       "      <td>0</td>\n",
       "      <td>0</td>\n",
       "      <td>0</td>\n",
       "    </tr>\n",
       "    <tr>\n",
       "      <th>1</th>\n",
       "      <td>8/2/2020</td>\n",
       "      <td>43</td>\n",
       "      <td>0</td>\n",
       "      <td>0</td>\n",
       "      <td>24</td>\n",
       "      <td>24</td>\n",
       "      <td>0</td>\n",
       "    </tr>\n",
       "    <tr>\n",
       "      <th>2</th>\n",
       "      <td>8/9/2020</td>\n",
       "      <td>43</td>\n",
       "      <td>0</td>\n",
       "      <td>12</td>\n",
       "      <td>0</td>\n",
       "      <td>84</td>\n",
       "      <td>1</td>\n",
       "    </tr>\n",
       "    <tr>\n",
       "      <th>3</th>\n",
       "      <td>8/16/2020</td>\n",
       "      <td>40</td>\n",
       "      <td>0</td>\n",
       "      <td>0</td>\n",
       "      <td>0</td>\n",
       "      <td>0</td>\n",
       "      <td>0</td>\n",
       "    </tr>\n",
       "    <tr>\n",
       "      <th>4</th>\n",
       "      <td>8/23/2020</td>\n",
       "      <td>37</td>\n",
       "      <td>0</td>\n",
       "      <td>11</td>\n",
       "      <td>8</td>\n",
       "      <td>38</td>\n",
       "      <td>0</td>\n",
       "    </tr>\n",
       "  </tbody>\n",
       "</table>\n",
       "</div>"
      ],
      "text/plain": [
       "        Week  Carvana Co  Carvana stock down  Carvana bankruptcy  \\\n",
       "0  7/26/2020          41                   0                   4   \n",
       "1   8/2/2020          43                   0                   0   \n",
       "2   8/9/2020          43                   0                  12   \n",
       "3  8/16/2020          40                   0                   0   \n",
       "4  8/23/2020          37                   0                  11   \n",
       "\n",
       "   Carvana short  Carvana loss  Trending  \n",
       "0              0             0         0  \n",
       "1             24            24         0  \n",
       "2              0            84         1  \n",
       "3              0             0         0  \n",
       "4              8            38         0  "
      ]
     },
     "execution_count": 3,
     "metadata": {},
     "output_type": "execute_result"
    }
   ],
   "source": [
    "# Import the Google Search Trend Data for the Stock Ticker into a Pandas DataFrame\n",
    "carvana_search_df = pd.read_csv(Path('Carvana_Trends.csv'))\n",
    "\n",
    "# Review the DataFrame for each of the Google Search Trends Data sets\n",
    "carvana_search_df.head()"
   ]
  },
  {
   "cell_type": "markdown",
   "id": "ebc713f0-75f6-4630-9e20-15af8f1f6169",
   "metadata": {},
   "source": [
    "## Define the Features "
   ]
  },
  {
   "cell_type": "code",
   "execution_count": null,
   "id": "cf00af90-713a-4a6b-a3eb-80937cfb02d0",
   "metadata": {},
   "outputs": [],
   "source": [
    "# Define the features set by copying the Google Search Trend DataFrame\n",
    "X = \n",
    "\n",
    "# Review the features set of the carvana_search_df "
   ]
  },
  {
   "cell_type": "markdown",
   "id": "cdad0ac6-8b7d-4234-94e4-2e43e8e0f3d6",
   "metadata": {},
   "source": [
    "## Define the Targets"
   ]
  },
  {
   "cell_type": "code",
   "execution_count": null,
   "id": "e75486f4-0b9c-4bff-bb24-d1d529cdc178",
   "metadata": {},
   "outputs": [],
   "source": [
    "# Create the target vector by assiging the values of the ['Column'] from the carvana_search_df\n",
    "y =\n",
    "\n",
    "# Review the targets set of the carvana_search_df"
   ]
  },
  {
   "cell_type": "markdown",
   "id": "7d5f1b8e-da3c-45ec-aa0a-d1ce796c9a45",
   "metadata": {},
   "source": [
    "## Train, Test, & Split the Features and Targets"
   ]
  },
  {
   "cell_type": "code",
   "execution_count": null,
   "id": "5c1d62b8-28b3-41da-a874-af271e071d6e",
   "metadata": {},
   "outputs": [],
   "source": [
    "# Splitting into Train and Test sets\n",
    "X_train, X_test, y_train, y_test = train_test_split()"
   ]
  },
  {
   "cell_type": "markdown",
   "id": "f2e3320a-e601-4281-bb5b-4abd567d601b",
   "metadata": {},
   "source": [
    "## Use the StandardScaler to Scale the Features Data"
   ]
  },
  {
   "cell_type": "code",
   "execution_count": null,
   "id": "f70ad382-b4a6-4577-8628-2a3d4847b47c",
   "metadata": {},
   "outputs": [],
   "source": [
    "# Create the StandardScaler instance\n",
    "scaler = StandardScaler()"
   ]
  },
  {
   "cell_type": "code",
   "execution_count": null,
   "id": "5ef40ab4-1a4a-4897-aa45-82666923bb20",
   "metadata": {},
   "outputs": [],
   "source": [
    "# Fit the Standard Scaler with the Training Data\n",
    "X_scaler = scaler.fit()"
   ]
  },
  {
   "cell_type": "code",
   "execution_count": null,
   "id": "3e84b970-f18a-4855-a2ac-60d7cc784697",
   "metadata": {},
   "outputs": [],
   "source": [
    "# Scale the Training Data\n",
    "X_train_scaled = X_scaler.transform()\n",
    "X_test_scaled = X_scaler.transform()"
   ]
  },
  {
   "cell_type": "markdown",
   "id": "4476b9d4-68a1-4705-a7d1-d05b3afef1a3",
   "metadata": {},
   "source": [
    "## Fitting the Random Forest Model"
   ]
  },
  {
   "cell_type": "markdown",
   "id": "4428b2b7-4d34-4b28-bd49-95ff85e7e3f2",
   "metadata": {},
   "source": [
    "Once the data is scaled, create a random forest instance and train it with the training data (X_train_scaled and y_train)."
   ]
  },
  {
   "cell_type": "code",
   "execution_count": null,
   "id": "e73b86e3-83a1-4132-9ef1-ded3cf3e7ff0",
   "metadata": {},
   "outputs": [],
   "source": [
    "# Create the random forest classifier instance\n",
    "rf_model = RnadomForest(Classifier(n_estimators=, random_State=)"
   ]
  },
  {
   "cell_type": "code",
   "execution_count": null,
   "id": "8c90c7e3-239e-4817-9ef3-a0b2175fd274",
   "metadata": {},
   "outputs": [],
   "source": [
    "# Fit the model\n",
    "rf_model = rf_model.fit()"
   ]
  },
  {
   "cell_type": "markdown",
   "id": "08c7b210-d688-4444-ab10-b9e5408d761a",
   "metadata": {},
   "source": [
    "## Making Predictions Using the Random Forest Model"
   ]
  },
  {
   "cell_type": "markdown",
   "id": "1306bab8-b99a-4416-96bb-5bcf3af6f154",
   "metadata": {},
   "source": [
    "Validate the trained model, by predicting loan defaults using the testing data (X_test_scaled)."
   ]
  },
  {
   "cell_type": "code",
   "execution_count": null,
   "id": "727f07c3-df5c-4aa4-aaa9-630586142026",
   "metadata": {},
   "outputs": [],
   "source": [
    "# Making predictions using the testing data\n",
    "predictions = rf_model.predict()"
   ]
  },
  {
   "cell_type": "markdown",
   "id": "78750944-8508-46f0-b6c0-5419aba2e4a7",
   "metadata": {},
   "source": [
    "## Model Evaluation"
   ]
  },
  {
   "cell_type": "markdown",
   "id": "14490ab2-17e4-43d2-9f29-671766289807",
   "metadata": {},
   "source": [
    "Evaluate model's results, by using sklearn to calculate the confusion matrix, the accuracy score and to generate the classification report."
   ]
  },
  {
   "cell_type": "code",
   "execution_count": null,
   "id": "cf93a055-9078-44f3-bda4-7b7cadc13559",
   "metadata": {},
   "outputs": [],
   "source": [
    "# Calculating the confusion matrix\n",
    "cm = confusion_matrix()\n",
    "cm_df = pd.DataFrame(\n",
    "      cm, index=[\"Actual 0\", \"Actual 1\"], columns=[\"Predicted 0\", \"Predicted 1\"]\n",
    ")\n",
    "\n",
    "# Calculating the accuracy score\n",
    "acc_score = accuracy_score()"
   ]
  },
  {
   "cell_type": "code",
   "execution_count": null,
   "id": "7ba33cb4-a6ac-429b-97ef-b93380477372",
   "metadata": {},
   "outputs": [],
   "source": [
    "# Displaying results\n",
    "print(\"Confusion Matrix\")\n",
    "display(cm_df)\n",
    "print(f\"Accuracy Score : {acc_score}\")\n",
    "print(\"Classification Report\")\n",
    "print(classification_report(y_test, predictions))"
   ]
  },
  {
   "cell_type": "markdown",
   "id": "fe9b374a-0478-4922-b1eb-1fea1b058a95",
   "metadata": {},
   "source": [
    "## Feature Importance"
   ]
  },
  {
   "cell_type": "markdown",
   "id": "57a6e4ed-7aa3-4fd5-b75a-ead55a2b3b5a",
   "metadata": {},
   "source": [
    "In this section, you are asked to fetch the features' importance from the random forest model and display the top 10 most important features."
   ]
  },
  {
   "cell_type": "code",
   "execution_count": null,
   "id": "11627f6c-4e8f-4f30-9334-3d3a3ce3d7b0",
   "metadata": {},
   "outputs": [],
   "source": [
    "# Get the feature importance array\n",
    "importances = rf_model.feature_importances_"
   ]
  },
  {
   "cell_type": "code",
   "execution_count": null,
   "id": "3e4d9e9b-111d-436b-b60a-3854cd4018d2",
   "metadata": {},
   "outputs": [],
   "source": [
    "# List the top 10 most important features\n",
    "importances_sorted = sorted(zip(rf_model.feature_importances_, X.columns), reverse=True)\n",
    "importances_sorted[:]"
   ]
  }
 ],
 "metadata": {
  "kernelspec": {
   "display_name": "Python 3 (ipykernel)",
   "language": "python",
   "name": "python3"
  },
  "language_info": {
   "codemirror_mode": {
    "name": "ipython",
    "version": 3
   },
   "file_extension": ".py",
   "mimetype": "text/x-python",
   "name": "python",
   "nbconvert_exporter": "python",
   "pygments_lexer": "ipython3",
   "version": "3.7.15"
  }
 },
 "nbformat": 4,
 "nbformat_minor": 5
}
